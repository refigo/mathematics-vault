{
 "cells": [
  {
   "cell_type": "code",
   "execution_count": 1,
   "metadata": {},
   "outputs": [],
   "source": [
    "import numpy as np\n",
    "import matplotlib.pyplot as plt"
   ]
  },
  {
   "cell_type": "code",
   "execution_count": null,
   "metadata": {},
   "outputs": [],
   "source": []
  },
  {
   "cell_type": "markdown",
   "metadata": {},
   "source": [
    "## k-Means Clustering"
   ]
  },
  {
   "cell_type": "code",
   "execution_count": 2,
   "metadata": {},
   "outputs": [],
   "source": [
    "np.random.seed(42)\n",
    "num_observations = 150\n",
    "num_features = 2\n",
    "\n",
    "data = np.random.rand(num_observations, num_features) * 10"
   ]
  },
  {
   "cell_type": "code",
   "execution_count": 3,
   "metadata": {},
   "outputs": [],
   "source": [
    "k = 3\n",
    "ridx = np.random.choice(range(len(data)),k,replace=False)\n",
    "centroids = data[ridx,:]"
   ]
  },
  {
   "cell_type": "code",
   "execution_count": 4,
   "metadata": {},
   "outputs": [],
   "source": [
    "dists = np.zeros((data.shape[0],k))\n",
    "for ci in range(k):\n",
    "    dists[:,ci] = np.sum((data-centroids[ci,:])**2,axis=1)"
   ]
  },
  {
   "cell_type": "code",
   "execution_count": 5,
   "metadata": {},
   "outputs": [],
   "source": [
    "groupidx = np.argmin(dists,axis=1)"
   ]
  },
  {
   "cell_type": "code",
   "execution_count": 6,
   "metadata": {},
   "outputs": [],
   "source": [
    "for ki in range(k):\n",
    "    centroids[ki,:] = [ np.mean(data[groupidx==ki,0]),\n",
    "                        np.mean(data[groupidx==ki,1]) ]"
   ]
  },
  {
   "cell_type": "code",
   "execution_count": null,
   "metadata": {},
   "outputs": [],
   "source": []
  },
  {
   "cell_type": "markdown",
   "metadata": {},
   "source": [
    "## Code Exercises"
   ]
  },
  {
   "cell_type": "markdown",
   "metadata": {},
   "source": [
    "### Exercise 1"
   ]
  },
  {
   "cell_type": "code",
   "execution_count": 8,
   "metadata": {},
   "outputs": [
    {
     "name": "stdout",
     "output_type": "stream",
     "text": [
      "x: [1 2 3]\n",
      "y: [4 5 6]\n",
      "mean(x): 2.0\n",
      "mean(y): 5.0\n",
      "xm: [-1.  0.  1.]\n",
      "ym: [-1.  0.  1.]\n",
      "r: 0.9999999999999998\n",
      "c: 0.9746318461970762\n",
      "0.9999999999999998 1.0\n"
     ]
    }
   ],
   "source": [
    "# the function\n",
    "def corrAndCosine(x,y):\n",
    "    print(f'x: {x}')\n",
    "    print(f'y: {y}')\n",
    "\n",
    "    # compute cosine similarity\n",
    "    num = np.dot(x,y) # numerator\n",
    "    den = np.linalg.norm(x) * np.linalg.norm(y) # denominator\n",
    "    cos = num / den\n",
    "\n",
    "    # compute correlation (similar to above but mean-centered!)\n",
    "    xm = x-np.mean(x)\n",
    "    ym = y-np.mean(y)\n",
    "    print(f'mean(x): {np.mean(x)}')\n",
    "    print(f'mean(y): {np.mean(y)}')\n",
    "    print(f'xm: {xm}')\n",
    "    print(f'ym: {ym}')\n",
    "\n",
    "\n",
    "    num = np.dot(xm,ym)\n",
    "    den = np.linalg.norm(xm) * np.linalg.norm(ym)\n",
    "    cor = num / den\n",
    "\n",
    "    return cor,cos\n",
    "\n",
    "# test it\n",
    "# a = np.random.randn(15)\n",
    "# b = np.random.randn(15)\n",
    "\n",
    "# print the vectors\n",
    "# print(a)\n",
    "# print(b)\n",
    "\n",
    "a = np.array([1,2,3])\n",
    "b = np.array([4,5,6])\n",
    "\n",
    "\n",
    "# compute the correlation and cosine\n",
    "r,c = corrAndCosine(a,b)\n",
    "\n",
    "print(f'r: {r}')\n",
    "print(f'c: {c}')\n",
    "\n",
    "# confirm that the correlation matches with np.corrcoef\n",
    "print(r,np.corrcoef(a,b)[0,1])"
   ]
  },
  {
   "cell_type": "code",
   "execution_count": 10,
   "metadata": {},
   "outputs": [
    {
     "name": "stdout",
     "output_type": "stream",
     "text": [
      "Without mean-centering (should differ):\n",
      "[-0.0764  0.1895]\n",
      " \n",
      "With mean-centering (should be the same):\n",
      "[-0.0764 -0.0764]\n"
     ]
    }
   ],
   "source": [
    "# the function with no print statements\n",
    "def corrAndCosine(x,y):\n",
    "\n",
    "    # compute cosine similarity\n",
    "    num = np.dot(x,y) # numerator\n",
    "    den = np.linalg.norm(x) * np.linalg.norm(y) # denominator\n",
    "    cos = num / den\n",
    "\n",
    "    # compute correlation (similar to above but mean-centered!)\n",
    "    xm = x-np.mean(x)\n",
    "    ym = y-np.mean(y)\n",
    "\n",
    "    num = np.dot(xm,ym)\n",
    "    den = np.linalg.norm(xm) * np.linalg.norm(ym)\n",
    "    cor = num / den\n",
    "\n",
    "    return cor,cos\n",
    "\n",
    "\n",
    "# compare r and c without mean-centering\n",
    "a = np.random.randn(15) + 10 # note the offset\n",
    "b = np.random.randn(15)\n",
    "\n",
    "# mean-center\n",
    "aNoMean = a - np.mean(a)\n",
    "bNoMean = b - np.mean(b)\n",
    "\n",
    "\n",
    "# show the results with and without mean-centering\n",
    "print('Without mean-centering (should differ):')\n",
    "print( np.round(corrAndCosine(a,b),4) )\n",
    "print(' ')\n",
    "\n",
    "print('With mean-centering (should be the same):')\n",
    "print( np.round(corrAndCosine(aNoMean,bNoMean),4) )\n",
    "\n",
    "# NOTE: In the printing code above, I rounded to 4 significant digits just for visual clarity."
   ]
  },
  {
   "cell_type": "markdown",
   "metadata": {},
   "source": [
    "### Exercise 2"
   ]
  },
  {
   "cell_type": "code",
   "execution_count": 15,
   "metadata": {},
   "outputs": [
    {
     "name": "stdout",
     "output_type": "stream",
     "text": [
      "[0. 1. 2. 3.]\n",
      "[-50 -49 -48 -47 -46 -45 -44 -43 -42 -41 -40 -39 -38 -37 -36 -35 -34 -33\n",
      " -32 -31 -30 -29 -28 -27 -26 -25 -24 -23 -22 -21 -20 -19 -18 -17 -16 -15\n",
      " -14 -13 -12 -11 -10  -9  -8  -7  -6  -5  -4  -3  -2  -1   0   1   2   3\n",
      "   4   5   6   7   8   9  10  11  12  13  14  15  16  17  18  19  20  21\n",
      "  22  23  24  25  26  27  28  29  30  31  32  33  34  35  36  37  38  39\n",
      "  40  41  42  43  44  45  46  47  48  49  50]\n"
     ]
    },
    {
     "data": {
      "image/png": "[encoded data removed]",
      "text/plain": [
       "<Figure size 800x400 with 1 Axes>"
      ]
     },
     "metadata": {},
     "output_type": "display_data"
    }
   ],
   "source": [
    "# create the variables\n",
    "a = np.arange(4,dtype=float)\n",
    "offsets = np.arange(-50,51)\n",
    "\n",
    "print(a)\n",
    "print(offsets)\n",
    "\n",
    "# initialize the results\n",
    "results = np.zeros((len(offsets),2))\n",
    "# print(results)\n",
    "\n",
    "# run the simulation!\n",
    "for i in range(len(offsets)):\n",
    "    results[i,:] = corrAndCosine(a,a+offsets[i])\n",
    "\n",
    "# plot the results!\n",
    "plt.figure(figsize=(8,4))\n",
    "h = plt.plot(offsets,results)\n",
    "h[0].set_color('k')\n",
    "h[0].set_marker('o')\n",
    "h[1].set_color([.7,.7,.7])\n",
    "h[1].set_marker('s')\n",
    "\n",
    "plt.xlabel('Mean offset')\n",
    "plt.ylabel('r or c')\n",
    "plt.legend(['Pearson','Cosine sim.'])\n",
    "# plt.savefig('Figure_04_02.png',dpi=300)\n",
    "plt.show()"
   ]
  },
  {
   "cell_type": "markdown",
   "metadata": {},
   "source": [
    "### Exercise 3"
   ]
  },
  {
   "cell_type": "code",
   "execution_count": 18,
   "metadata": {},
   "outputs": [
    {
     "name": "stdout",
     "output_type": "stream",
     "text": [
      "\u001b[0;31mSignature:\u001b[0m \u001b[0mpearsonr\u001b[0m\u001b[0;34m(\u001b[0m\u001b[0mx\u001b[0m\u001b[0;34m,\u001b[0m \u001b[0my\u001b[0m\u001b[0;34m)\u001b[0m\u001b[0;34m\u001b[0m\u001b[0;34m\u001b[0m\u001b[0m\n",
      "\u001b[0;31mSource:\u001b[0m   \n",
      "\u001b[0;32mdef\u001b[0m \u001b[0mpearsonr\u001b[0m\u001b[0;34m(\u001b[0m\u001b[0mx\u001b[0m\u001b[0;34m,\u001b[0m \u001b[0my\u001b[0m\u001b[0;34m)\u001b[0m\u001b[0;34m:\u001b[0m\u001b[0;34m\u001b[0m\n",
      "\u001b[0;34m\u001b[0m    \u001b[0;34mr\"\"\"\u001b[0m\n",
      "\u001b[0;34m    Pearson correlation coefficient and p-value for testing non-correlation.\u001b[0m\n",
      "\u001b[0;34m\u001b[0m\n",
      "\u001b[0;34m    The Pearson correlation coefficient [1]_ measures the linear relationship\u001b[0m\n",
      "\u001b[0;34m    between two datasets.  The calculation of the p-value relies on the\u001b[0m\n",
      "\u001b[0;34m    assumption that each dataset is normally distributed.  (See Kowalski [3]_\u001b[0m\n",
      "\u001b[0;34m    for a discussion of the effects of non-normality of the input on the\u001b[0m\n",
      "\u001b[0;34m    distribution of the correlation coefficient.)  Like other correlation\u001b[0m\n",
      "\u001b[0;34m    coefficients, this one varies between -1 and +1 with 0 implying no\u001b[0m\n",
      "\u001b[0;34m    correlation. Correlations of -1 or +1 imply an exact linear relationship.\u001b[0m\n",
      "\u001b[0;34m\u001b[0m\n",
      "\u001b[0;34m    Parameters\u001b[0m\n",
      "\u001b[0;34m    ----------\u001b[0m\n",
      "\u001b[0;34m    x : (N,) array_like\u001b[0m\n",
      "\u001b[0;34m        Input array.\u001b[0m\n",
      "\u001b[0;34m    y : (N,) array_like\u001b[0m\n",
      "\u001b[0;34m        Input array.\u001b[0m\n",
      "\u001b[0;34m\u001b[0m\n",
      "\u001b[0;34m    Returns\u001b[0m\n",
      "\u001b[0;34m    -------\u001b[0m\n",
      "\u001b[0;34m    r : float\u001b[0m\n",
      "\u001b[0;34m        Pearson's correlation coefficient.\u001b[0m\n",
      "\u001b[0;34m    p-value : float\u001b[0m\n",
      "\u001b[0;34m        Two-tailed p-value.\u001b[0m\n",
      "\u001b[0;34m\u001b[0m\n",
      "\u001b[0;34m    Warns\u001b[0m\n",
      "\u001b[0;34m    -----\u001b[0m\n",
      "\u001b[0;34m    PearsonRConstantInputWarning\u001b[0m\n",
      "\u001b[0;34m        Raised if an input is a constant array.  The correlation coefficient\u001b[0m\n",
      "\u001b[0;34m        is not defined in this case, so ``np.nan`` is returned.\u001b[0m\n",
      "\u001b[0;34m\u001b[0m\n",
      "\u001b[0;34m    PearsonRNearConstantInputWarning\u001b[0m\n",
      "\u001b[0;34m        Raised if an input is \"nearly\" constant.  The array ``x`` is considered\u001b[0m\n",
      "\u001b[0;34m        nearly constant if ``norm(x - mean(x)) < 1e-13 * abs(mean(x))``.\u001b[0m\n",
      "\u001b[0;34m        Numerical errors in the calculation ``x - mean(x)`` in this case might\u001b[0m\n",
      "\u001b[0;34m        result in an inaccurate calculation of r.\u001b[0m\n",
      "\u001b[0;34m\u001b[0m\n",
      "\u001b[0;34m    See Also\u001b[0m\n",
      "\u001b[0;34m    --------\u001b[0m\n",
      "\u001b[0;34m    spearmanr : Spearman rank-order correlation coefficient.\u001b[0m\n",
      "\u001b[0;34m    kendalltau : Kendall's tau, a correlation measure for ordinal data.\u001b[0m\n",
      "\u001b[0;34m\u001b[0m\n",
      "\u001b[0;34m    Notes\u001b[0m\n",
      "\u001b[0;34m    -----\u001b[0m\n",
      "\u001b[0;34m    The correlation coefficient is calculated as follows:\u001b[0m\n",
      "\u001b[0;34m\u001b[0m\n",
      "\u001b[0;34m    .. math::\u001b[0m\n",
      "\u001b[0;34m\u001b[0m\n",
      "\u001b[0;34m        r = \\frac{\\sum (x - m_x) (y - m_y)}\u001b[0m\n",
      "\u001b[0;34m                 {\\sqrt{\\sum (x - m_x)^2 \\sum (y - m_y)^2}}\u001b[0m\n",
      "\u001b[0;34m\u001b[0m\n",
      "\u001b[0;34m    where :math:`m_x` is the mean of the vector x and :math:`m_y` is\u001b[0m\n",
      "\u001b[0;34m    the mean of the vector y.\u001b[0m\n",
      "\u001b[0;34m\u001b[0m\n",
      "\u001b[0;34m    Under the assumption that x and y are drawn from\u001b[0m\n",
      "\u001b[0;34m    independent normal distributions (so the population correlation coefficient\u001b[0m\n",
      "\u001b[0;34m    is 0), the probability density function of the sample correlation\u001b[0m\n",
      "\u001b[0;34m    coefficient r is ([1]_, [2]_):\u001b[0m\n",
      "\u001b[0;34m\u001b[0m\n",
      "\u001b[0;34m    .. math::\u001b[0m\n",
      "\u001b[0;34m\u001b[0m\n",
      "\u001b[0;34m        f(r) = \\frac{{(1-r^2)}^{n/2-2}}{\\mathrm{B}(\\frac{1}{2},\\frac{n}{2}-1)}\u001b[0m\n",
      "\u001b[0;34m\u001b[0m\n",
      "\u001b[0;34m    where n is the number of samples, and B is the beta function.  This\u001b[0m\n",
      "\u001b[0;34m    is sometimes referred to as the exact distribution of r.  This is\u001b[0m\n",
      "\u001b[0;34m    the distribution that is used in `pearsonr` to compute the p-value.\u001b[0m\n",
      "\u001b[0;34m    The distribution is a beta distribution on the interval [-1, 1],\u001b[0m\n",
      "\u001b[0;34m    with equal shape parameters a = b = n/2 - 1.  In terms of SciPy's\u001b[0m\n",
      "\u001b[0;34m    implementation of the beta distribution, the distribution of r is::\u001b[0m\n",
      "\u001b[0;34m\u001b[0m\n",
      "\u001b[0;34m        dist = scipy.stats.beta(n/2 - 1, n/2 - 1, loc=-1, scale=2)\u001b[0m\n",
      "\u001b[0;34m\u001b[0m\n",
      "\u001b[0;34m    The p-value returned by `pearsonr` is a two-sided p-value. The p-value\u001b[0m\n",
      "\u001b[0;34m    roughly indicates the probability of an uncorrelated system\u001b[0m\n",
      "\u001b[0;34m    producing datasets that have a Pearson correlation at least as extreme\u001b[0m\n",
      "\u001b[0;34m    as the one computed from these datasets. More precisely, for a\u001b[0m\n",
      "\u001b[0;34m    given sample with correlation coefficient r, the p-value is\u001b[0m\n",
      "\u001b[0;34m    the probability that abs(r') of a random sample x' and y' drawn from\u001b[0m\n",
      "\u001b[0;34m    the population with zero correlation would be greater than or equal\u001b[0m\n",
      "\u001b[0;34m    to abs(r). In terms of the object ``dist`` shown above, the p-value\u001b[0m\n",
      "\u001b[0;34m    for a given r and length n can be computed as::\u001b[0m\n",
      "\u001b[0;34m\u001b[0m\n",
      "\u001b[0;34m        p = 2*dist.cdf(-abs(r))\u001b[0m\n",
      "\u001b[0;34m\u001b[0m\n",
      "\u001b[0;34m    When n is 2, the above continuous distribution is not well-defined.\u001b[0m\n",
      "\u001b[0;34m    One can interpret the limit of the beta distribution as the shape\u001b[0m\n",
      "\u001b[0;34m    parameters a and b approach a = b = 0 as a discrete distribution with\u001b[0m\n",
      "\u001b[0;34m    equal probability masses at r = 1 and r = -1.  More directly, one\u001b[0m\n",
      "\u001b[0;34m    can observe that, given the data x = [x1, x2] and y = [y1, y2], and\u001b[0m\n",
      "\u001b[0;34m    assuming x1 != x2 and y1 != y2, the only possible values for r are 1\u001b[0m\n",
      "\u001b[0;34m    and -1.  Because abs(r') for any sample x' and y' with length 2 will\u001b[0m\n",
      "\u001b[0;34m    be 1, the two-sided p-value for a sample of length 2 is always 1.\u001b[0m\n",
      "\u001b[0;34m\u001b[0m\n",
      "\u001b[0;34m    References\u001b[0m\n",
      "\u001b[0;34m    ----------\u001b[0m\n",
      "\u001b[0;34m    .. [1] \"Pearson correlation coefficient\", Wikipedia,\u001b[0m\n",
      "\u001b[0;34m           https://en.wikipedia.org/wiki/Pearson_correlation_coefficient\u001b[0m\n",
      "\u001b[0;34m    .. [2] Student, \"Probable error of a correlation coefficient\",\u001b[0m\n",
      "\u001b[0;34m           Biometrika, Volume 6, Issue 2-3, 1 September 1908, pp. 302-310.\u001b[0m\n",
      "\u001b[0;34m    .. [3] C. J. Kowalski, \"On the Effects of Non-Normality on the Distribution\u001b[0m\n",
      "\u001b[0;34m           of the Sample Product-Moment Correlation Coefficient\"\u001b[0m\n",
      "\u001b[0;34m           Journal of the Royal Statistical Society. Series C (Applied\u001b[0m\n",
      "\u001b[0;34m           Statistics), Vol. 21, No. 1 (1972), pp. 1-12.\u001b[0m\n",
      "\u001b[0;34m\u001b[0m\n",
      "\u001b[0;34m    Examples\u001b[0m\n",
      "\u001b[0;34m    --------\u001b[0m\n",
      "\u001b[0;34m    >>> from scipy import stats\u001b[0m\n",
      "\u001b[0;34m    >>> stats.pearsonr([1, 2, 3, 4, 5], [10, 9, 2.5, 6, 4])\u001b[0m\n",
      "\u001b[0;34m    (-0.7426106572325057, 0.1505558088534455)\u001b[0m\n",
      "\u001b[0;34m\u001b[0m\n",
      "\u001b[0;34m    There is a linear dependence between x and y if y = a + b*x + e, where\u001b[0m\n",
      "\u001b[0;34m    a,b are constants and e is a random error term, assumed to be independent\u001b[0m\n",
      "\u001b[0;34m    of x. For simplicity, assume that x is standard normal, a=0, b=1 and let\u001b[0m\n",
      "\u001b[0;34m    e follow a normal distribution with mean zero and standard deviation s>0.\u001b[0m\n",
      "\u001b[0;34m\u001b[0m\n",
      "\u001b[0;34m    >>> s = 0.5\u001b[0m\n",
      "\u001b[0;34m    >>> x = stats.norm.rvs(size=500)\u001b[0m\n",
      "\u001b[0;34m    >>> e = stats.norm.rvs(scale=s, size=500)\u001b[0m\n",
      "\u001b[0;34m    >>> y = x + e\u001b[0m\n",
      "\u001b[0;34m    >>> stats.pearsonr(x, y)\u001b[0m\n",
      "\u001b[0;34m    (0.9029601878969703, 8.428978827629898e-185) # may vary\u001b[0m\n",
      "\u001b[0;34m\u001b[0m\n",
      "\u001b[0;34m    This should be close to the exact value given by\u001b[0m\n",
      "\u001b[0;34m\u001b[0m\n",
      "\u001b[0;34m    >>> 1/np.sqrt(1 + s**2)\u001b[0m\n",
      "\u001b[0;34m    0.8944271909999159\u001b[0m\n",
      "\u001b[0;34m\u001b[0m\n",
      "\u001b[0;34m    For s=0.5, we observe a high level of correlation. In general, a large\u001b[0m\n",
      "\u001b[0;34m    variance of the noise reduces the correlation, while the correlation\u001b[0m\n",
      "\u001b[0;34m    approaches one as the variance of the error goes to zero.\u001b[0m\n",
      "\u001b[0;34m\u001b[0m\n",
      "\u001b[0;34m    It is important to keep in mind that no correlation does not imply\u001b[0m\n",
      "\u001b[0;34m    independence unless (x, y) is jointly normal. Correlation can even be zero\u001b[0m\n",
      "\u001b[0;34m    when there is a very simple dependence structure: if X follows a\u001b[0m\n",
      "\u001b[0;34m    standard normal distribution, let y = abs(x). Note that the correlation\u001b[0m\n",
      "\u001b[0;34m    between x and y is zero. Indeed, since the expectation of x is zero,\u001b[0m\n",
      "\u001b[0;34m    cov(x, y) = E[x*y]. By definition, this equals E[x*abs(x)] which is zero\u001b[0m\n",
      "\u001b[0;34m    by symmetry. The following lines of code illustrate this observation:\u001b[0m\n",
      "\u001b[0;34m\u001b[0m\n",
      "\u001b[0;34m    >>> y = np.abs(x)\u001b[0m\n",
      "\u001b[0;34m    >>> stats.pearsonr(x, y)\u001b[0m\n",
      "\u001b[0;34m    (-0.016172891856853524, 0.7182823678751942) # may vary\u001b[0m\n",
      "\u001b[0;34m\u001b[0m\n",
      "\u001b[0;34m    A non-zero correlation coefficient can be misleading. For example, if X has\u001b[0m\n",
      "\u001b[0;34m    a standard normal distribution, define y = x if x < 0 and y = 0 otherwise.\u001b[0m\n",
      "\u001b[0;34m    A simple calculation shows that corr(x, y) = sqrt(2/Pi) = 0.797...,\u001b[0m\n",
      "\u001b[0;34m    implying a high level of correlation:\u001b[0m\n",
      "\u001b[0;34m\u001b[0m\n",
      "\u001b[0;34m    >>> y = np.where(x < 0, x, 0)\u001b[0m\n",
      "\u001b[0;34m    >>> stats.pearsonr(x, y)\u001b[0m\n",
      "\u001b[0;34m    (0.8537091583771509, 3.183461621422181e-143) # may vary\u001b[0m\n",
      "\u001b[0;34m\u001b[0m\n",
      "\u001b[0;34m    This is unintuitive since there is no dependence of x and y if x is larger\u001b[0m\n",
      "\u001b[0;34m    than zero which happens in about half of the cases if we sample x and y.\u001b[0m\n",
      "\u001b[0;34m    \"\"\"\u001b[0m\u001b[0;34m\u001b[0m\n",
      "\u001b[0;34m\u001b[0m    \u001b[0mn\u001b[0m \u001b[0;34m=\u001b[0m \u001b[0mlen\u001b[0m\u001b[0;34m(\u001b[0m\u001b[0mx\u001b[0m\u001b[0;34m)\u001b[0m\u001b[0;34m\u001b[0m\n",
      "\u001b[0;34m\u001b[0m    \u001b[0;32mif\u001b[0m \u001b[0mn\u001b[0m \u001b[0;34m!=\u001b[0m \u001b[0mlen\u001b[0m\u001b[0;34m(\u001b[0m\u001b[0my\u001b[0m\u001b[0;34m)\u001b[0m\u001b[0;34m:\u001b[0m\u001b[0;34m\u001b[0m\n",
      "\u001b[0;34m\u001b[0m        \u001b[0;32mraise\u001b[0m \u001b[0mValueError\u001b[0m\u001b[0;34m(\u001b[0m\u001b[0;34m'x and y must have the same length.'\u001b[0m\u001b[0;34m)\u001b[0m\u001b[0;34m\u001b[0m\n",
      "\u001b[0;34m\u001b[0m\u001b[0;34m\u001b[0m\n",
      "\u001b[0;34m\u001b[0m    \u001b[0;32mif\u001b[0m \u001b[0mn\u001b[0m \u001b[0;34m<\u001b[0m \u001b[0;36m2\u001b[0m\u001b[0;34m:\u001b[0m\u001b[0;34m\u001b[0m\n",
      "\u001b[0;34m\u001b[0m        \u001b[0;32mraise\u001b[0m \u001b[0mValueError\u001b[0m\u001b[0;34m(\u001b[0m\u001b[0;34m'x and y must have length at least 2.'\u001b[0m\u001b[0;34m)\u001b[0m\u001b[0;34m\u001b[0m\n",
      "\u001b[0;34m\u001b[0m\u001b[0;34m\u001b[0m\n",
      "\u001b[0;34m\u001b[0m    \u001b[0mx\u001b[0m \u001b[0;34m=\u001b[0m \u001b[0mnp\u001b[0m\u001b[0;34m.\u001b[0m\u001b[0masarray\u001b[0m\u001b[0;34m(\u001b[0m\u001b[0mx\u001b[0m\u001b[0;34m)\u001b[0m\u001b[0;34m\u001b[0m\n",
      "\u001b[0;34m\u001b[0m    \u001b[0my\u001b[0m \u001b[0;34m=\u001b[0m \u001b[0mnp\u001b[0m\u001b[0;34m.\u001b[0m\u001b[0masarray\u001b[0m\u001b[0;34m(\u001b[0m\u001b[0my\u001b[0m\u001b[0;34m)\u001b[0m\u001b[0;34m\u001b[0m\n",
      "\u001b[0;34m\u001b[0m\u001b[0;34m\u001b[0m\n",
      "\u001b[0;34m\u001b[0m    \u001b[0;31m# If an input is constant, the correlation coefficient is not defined.\u001b[0m\u001b[0;34m\u001b[0m\n",
      "\u001b[0;34m\u001b[0m    \u001b[0;32mif\u001b[0m \u001b[0;34m(\u001b[0m\u001b[0mx\u001b[0m \u001b[0;34m==\u001b[0m \u001b[0mx\u001b[0m\u001b[0;34m[\u001b[0m\u001b[0;36m0\u001b[0m\u001b[0;34m]\u001b[0m\u001b[0;34m)\u001b[0m\u001b[0;34m.\u001b[0m\u001b[0mall\u001b[0m\u001b[0;34m(\u001b[0m\u001b[0;34m)\u001b[0m \u001b[0;32mor\u001b[0m \u001b[0;34m(\u001b[0m\u001b[0my\u001b[0m \u001b[0;34m==\u001b[0m \u001b[0my\u001b[0m\u001b[0;34m[\u001b[0m\u001b[0;36m0\u001b[0m\u001b[0;34m]\u001b[0m\u001b[0;34m)\u001b[0m\u001b[0;34m.\u001b[0m\u001b[0mall\u001b[0m\u001b[0;34m(\u001b[0m\u001b[0;34m)\u001b[0m\u001b[0;34m:\u001b[0m\u001b[0;34m\u001b[0m\n",
      "\u001b[0;34m\u001b[0m        \u001b[0mwarnings\u001b[0m\u001b[0;34m.\u001b[0m\u001b[0mwarn\u001b[0m\u001b[0;34m(\u001b[0m\u001b[0mPearsonRConstantInputWarning\u001b[0m\u001b[0;34m(\u001b[0m\u001b[0;34m)\u001b[0m\u001b[0;34m)\u001b[0m\u001b[0;34m\u001b[0m\n",
      "\u001b[0;34m\u001b[0m        \u001b[0;32mreturn\u001b[0m \u001b[0mnp\u001b[0m\u001b[0;34m.\u001b[0m\u001b[0mnan\u001b[0m\u001b[0;34m,\u001b[0m \u001b[0mnp\u001b[0m\u001b[0;34m.\u001b[0m\u001b[0mnan\u001b[0m\u001b[0;34m\u001b[0m\n",
      "\u001b[0;34m\u001b[0m\u001b[0;34m\u001b[0m\n",
      "\u001b[0;34m\u001b[0m    \u001b[0;31m# dtype is the data type for the calculations.  This expression ensures\u001b[0m\u001b[0;34m\u001b[0m\n",
      "\u001b[0;34m\u001b[0m    \u001b[0;31m# that the data type is at least 64 bit floating point.  It might have\u001b[0m\u001b[0;34m\u001b[0m\n",
      "\u001b[0;34m\u001b[0m    \u001b[0;31m# more precision if the input is, for example, np.longdouble.\u001b[0m\u001b[0;34m\u001b[0m\n",
      "\u001b[0;34m\u001b[0m    \u001b[0mdtype\u001b[0m \u001b[0;34m=\u001b[0m \u001b[0mtype\u001b[0m\u001b[0;34m(\u001b[0m\u001b[0;36m1.0\u001b[0m \u001b[0;34m+\u001b[0m \u001b[0mx\u001b[0m\u001b[0;34m[\u001b[0m\u001b[0;36m0\u001b[0m\u001b[0;34m]\u001b[0m \u001b[0;34m+\u001b[0m \u001b[0my\u001b[0m\u001b[0;34m[\u001b[0m\u001b[0;36m0\u001b[0m\u001b[0;34m]\u001b[0m\u001b[0;34m)\u001b[0m\u001b[0;34m\u001b[0m\n",
      "\u001b[0;34m\u001b[0m\u001b[0;34m\u001b[0m\n",
      "\u001b[0;34m\u001b[0m    \u001b[0;32mif\u001b[0m \u001b[0mn\u001b[0m \u001b[0;34m==\u001b[0m \u001b[0;36m2\u001b[0m\u001b[0;34m:\u001b[0m\u001b[0;34m\u001b[0m\n",
      "\u001b[0;34m\u001b[0m        \u001b[0;32mreturn\u001b[0m \u001b[0mdtype\u001b[0m\u001b[0;34m(\u001b[0m\u001b[0mnp\u001b[0m\u001b[0;34m.\u001b[0m\u001b[0msign\u001b[0m\u001b[0;34m(\u001b[0m\u001b[0mx\u001b[0m\u001b[0;34m[\u001b[0m\u001b[0;36m1\u001b[0m\u001b[0;34m]\u001b[0m \u001b[0;34m-\u001b[0m \u001b[0mx\u001b[0m\u001b[0;34m[\u001b[0m\u001b[0;36m0\u001b[0m\u001b[0;34m]\u001b[0m\u001b[0;34m)\u001b[0m\u001b[0;34m*\u001b[0m\u001b[0mnp\u001b[0m\u001b[0;34m.\u001b[0m\u001b[0msign\u001b[0m\u001b[0;34m(\u001b[0m\u001b[0my\u001b[0m\u001b[0;34m[\u001b[0m\u001b[0;36m1\u001b[0m\u001b[0;34m]\u001b[0m \u001b[0;34m-\u001b[0m \u001b[0my\u001b[0m\u001b[0;34m[\u001b[0m\u001b[0;36m0\u001b[0m\u001b[0;34m]\u001b[0m\u001b[0;34m)\u001b[0m\u001b[0;34m)\u001b[0m\u001b[0;34m,\u001b[0m \u001b[0;36m1.0\u001b[0m\u001b[0;34m\u001b[0m\n",
      "\u001b[0;34m\u001b[0m\u001b[0;34m\u001b[0m\n",
      "\u001b[0;34m\u001b[0m    \u001b[0mxmean\u001b[0m \u001b[0;34m=\u001b[0m \u001b[0mx\u001b[0m\u001b[0;34m.\u001b[0m\u001b[0mmean\u001b[0m\u001b[0;34m(\u001b[0m\u001b[0mdtype\u001b[0m\u001b[0;34m=\u001b[0m\u001b[0mdtype\u001b[0m\u001b[0;34m)\u001b[0m\u001b[0;34m\u001b[0m\n",
      "\u001b[0;34m\u001b[0m    \u001b[0mymean\u001b[0m \u001b[0;34m=\u001b[0m \u001b[0my\u001b[0m\u001b[0;34m.\u001b[0m\u001b[0mmean\u001b[0m\u001b[0;34m(\u001b[0m\u001b[0mdtype\u001b[0m\u001b[0;34m=\u001b[0m\u001b[0mdtype\u001b[0m\u001b[0;34m)\u001b[0m\u001b[0;34m\u001b[0m\n",
      "\u001b[0;34m\u001b[0m\u001b[0;34m\u001b[0m\n",
      "\u001b[0;34m\u001b[0m    \u001b[0;31m# By using `astype(dtype)`, we ensure that the intermediate calculations\u001b[0m\u001b[0;34m\u001b[0m\n",
      "\u001b[0;34m\u001b[0m    \u001b[0;31m# use at least 64 bit floating point.\u001b[0m\u001b[0;34m\u001b[0m\n",
      "\u001b[0;34m\u001b[0m    \u001b[0mxm\u001b[0m \u001b[0;34m=\u001b[0m \u001b[0mx\u001b[0m\u001b[0;34m.\u001b[0m\u001b[0mastype\u001b[0m\u001b[0;34m(\u001b[0m\u001b[0mdtype\u001b[0m\u001b[0;34m)\u001b[0m \u001b[0;34m-\u001b[0m \u001b[0mxmean\u001b[0m\u001b[0;34m\u001b[0m\n",
      "\u001b[0;34m\u001b[0m    \u001b[0mym\u001b[0m \u001b[0;34m=\u001b[0m \u001b[0my\u001b[0m\u001b[0;34m.\u001b[0m\u001b[0mastype\u001b[0m\u001b[0;34m(\u001b[0m\u001b[0mdtype\u001b[0m\u001b[0;34m)\u001b[0m \u001b[0;34m-\u001b[0m \u001b[0mymean\u001b[0m\u001b[0;34m\u001b[0m\n",
      "\u001b[0;34m\u001b[0m\u001b[0;34m\u001b[0m\n",
      "\u001b[0;34m\u001b[0m    \u001b[0;31m# Unlike np.linalg.norm or the expression sqrt((xm*xm).sum()),\u001b[0m\u001b[0;34m\u001b[0m\n",
      "\u001b[0;34m\u001b[0m    \u001b[0;31m# scipy.linalg.norm(xm) does not overflow if xm is, for example,\u001b[0m\u001b[0;34m\u001b[0m\n",
      "\u001b[0;34m\u001b[0m    \u001b[0;31m# [-5e210, 5e210, 3e200, -3e200]\u001b[0m\u001b[0;34m\u001b[0m\n",
      "\u001b[0;34m\u001b[0m    \u001b[0mnormxm\u001b[0m \u001b[0;34m=\u001b[0m \u001b[0mlinalg\u001b[0m\u001b[0;34m.\u001b[0m\u001b[0mnorm\u001b[0m\u001b[0;34m(\u001b[0m\u001b[0mxm\u001b[0m\u001b[0;34m)\u001b[0m\u001b[0;34m\u001b[0m\n",
      "\u001b[0;34m\u001b[0m    \u001b[0mnormym\u001b[0m \u001b[0;34m=\u001b[0m \u001b[0mlinalg\u001b[0m\u001b[0;34m.\u001b[0m\u001b[0mnorm\u001b[0m\u001b[0;34m(\u001b[0m\u001b[0mym\u001b[0m\u001b[0;34m)\u001b[0m\u001b[0;34m\u001b[0m\n",
      "\u001b[0;34m\u001b[0m\u001b[0;34m\u001b[0m\n",
      "\u001b[0;34m\u001b[0m    \u001b[0mthreshold\u001b[0m \u001b[0;34m=\u001b[0m \u001b[0;36m1e-13\u001b[0m\u001b[0;34m\u001b[0m\n",
      "\u001b[0;34m\u001b[0m    \u001b[0;32mif\u001b[0m \u001b[0mnormxm\u001b[0m \u001b[0;34m<\u001b[0m \u001b[0mthreshold\u001b[0m\u001b[0;34m*\u001b[0m\u001b[0mabs\u001b[0m\u001b[0;34m(\u001b[0m\u001b[0mxmean\u001b[0m\u001b[0;34m)\u001b[0m \u001b[0;32mor\u001b[0m \u001b[0mnormym\u001b[0m \u001b[0;34m<\u001b[0m \u001b[0mthreshold\u001b[0m\u001b[0;34m*\u001b[0m\u001b[0mabs\u001b[0m\u001b[0;34m(\u001b[0m\u001b[0mymean\u001b[0m\u001b[0;34m)\u001b[0m\u001b[0;34m:\u001b[0m\u001b[0;34m\u001b[0m\n",
      "\u001b[0;34m\u001b[0m        \u001b[0;31m# If all the values in x (likewise y) are very close to the mean,\u001b[0m\u001b[0;34m\u001b[0m\n",
      "\u001b[0;34m\u001b[0m        \u001b[0;31m# the loss of precision that occurs in the subtraction xm = x - xmean\u001b[0m\u001b[0;34m\u001b[0m\n",
      "\u001b[0;34m\u001b[0m        \u001b[0;31m# might result in large errors in r.\u001b[0m\u001b[0;34m\u001b[0m\n",
      "\u001b[0;34m\u001b[0m        \u001b[0mwarnings\u001b[0m\u001b[0;34m.\u001b[0m\u001b[0mwarn\u001b[0m\u001b[0;34m(\u001b[0m\u001b[0mPearsonRNearConstantInputWarning\u001b[0m\u001b[0;34m(\u001b[0m\u001b[0;34m)\u001b[0m\u001b[0;34m)\u001b[0m\u001b[0;34m\u001b[0m\n",
      "\u001b[0;34m\u001b[0m\u001b[0;34m\u001b[0m\n",
      "\u001b[0;34m\u001b[0m    \u001b[0mr\u001b[0m \u001b[0;34m=\u001b[0m \u001b[0mnp\u001b[0m\u001b[0;34m.\u001b[0m\u001b[0mdot\u001b[0m\u001b[0;34m(\u001b[0m\u001b[0mxm\u001b[0m\u001b[0;34m/\u001b[0m\u001b[0mnormxm\u001b[0m\u001b[0;34m,\u001b[0m \u001b[0mym\u001b[0m\u001b[0;34m/\u001b[0m\u001b[0mnormym\u001b[0m\u001b[0;34m)\u001b[0m\u001b[0;34m\u001b[0m\n",
      "\u001b[0;34m\u001b[0m\u001b[0;34m\u001b[0m\n",
      "\u001b[0;34m\u001b[0m    \u001b[0;31m# Presumably, if abs(r) > 1, then it is only some small artifact of\u001b[0m\u001b[0;34m\u001b[0m\n",
      "\u001b[0;34m\u001b[0m    \u001b[0;31m# floating point arithmetic.\u001b[0m\u001b[0;34m\u001b[0m\n",
      "\u001b[0;34m\u001b[0m    \u001b[0mr\u001b[0m \u001b[0;34m=\u001b[0m \u001b[0mmax\u001b[0m\u001b[0;34m(\u001b[0m\u001b[0mmin\u001b[0m\u001b[0;34m(\u001b[0m\u001b[0mr\u001b[0m\u001b[0;34m,\u001b[0m \u001b[0;36m1.0\u001b[0m\u001b[0;34m)\u001b[0m\u001b[0;34m,\u001b[0m \u001b[0;34m-\u001b[0m\u001b[0;36m1.0\u001b[0m\u001b[0;34m)\u001b[0m\u001b[0;34m\u001b[0m\n",
      "\u001b[0;34m\u001b[0m\u001b[0;34m\u001b[0m\n",
      "\u001b[0;34m\u001b[0m    \u001b[0;31m# As explained in the docstring, the p-value can be computed as\u001b[0m\u001b[0;34m\u001b[0m\n",
      "\u001b[0;34m\u001b[0m    \u001b[0;31m#     p = 2*dist.cdf(-abs(r))\u001b[0m\u001b[0;34m\u001b[0m\n",
      "\u001b[0;34m\u001b[0m    \u001b[0;31m# where dist is the beta distribution on [-1, 1] with shape parameters\u001b[0m\u001b[0;34m\u001b[0m\n",
      "\u001b[0;34m\u001b[0m    \u001b[0;31m# a = b = n/2 - 1.  `special.btdtr` is the CDF for the beta distribution\u001b[0m\u001b[0;34m\u001b[0m\n",
      "\u001b[0;34m\u001b[0m    \u001b[0;31m# on [0, 1].  To use it, we make the transformation  x = (r + 1)/2; the\u001b[0m\u001b[0;34m\u001b[0m\n",
      "\u001b[0;34m\u001b[0m    \u001b[0;31m# shape parameters do not change.  Then -abs(r) used in `cdf(-abs(r))`\u001b[0m\u001b[0;34m\u001b[0m\n",
      "\u001b[0;34m\u001b[0m    \u001b[0;31m# becomes x = (-abs(r) + 1)/2 = 0.5*(1 - abs(r)).  (r is cast to float64\u001b[0m\u001b[0;34m\u001b[0m\n",
      "\u001b[0;34m\u001b[0m    \u001b[0;31m# to avoid a TypeError raised by btdtr when r is higher precision.)\u001b[0m\u001b[0;34m\u001b[0m\n",
      "\u001b[0;34m\u001b[0m    \u001b[0mab\u001b[0m \u001b[0;34m=\u001b[0m \u001b[0mn\u001b[0m\u001b[0;34m/\u001b[0m\u001b[0;36m2\u001b[0m \u001b[0;34m-\u001b[0m \u001b[0;36m1\u001b[0m\u001b[0;34m\u001b[0m\n",
      "\u001b[0;34m\u001b[0m    \u001b[0mprob\u001b[0m \u001b[0;34m=\u001b[0m \u001b[0;36m2\u001b[0m\u001b[0;34m*\u001b[0m\u001b[0mspecial\u001b[0m\u001b[0;34m.\u001b[0m\u001b[0mbtdtr\u001b[0m\u001b[0;34m(\u001b[0m\u001b[0mab\u001b[0m\u001b[0;34m,\u001b[0m \u001b[0mab\u001b[0m\u001b[0;34m,\u001b[0m \u001b[0;36m0.5\u001b[0m\u001b[0;34m*\u001b[0m\u001b[0;34m(\u001b[0m\u001b[0;36m1\u001b[0m \u001b[0;34m-\u001b[0m \u001b[0mabs\u001b[0m\u001b[0;34m(\u001b[0m\u001b[0mnp\u001b[0m\u001b[0;34m.\u001b[0m\u001b[0mfloat64\u001b[0m\u001b[0;34m(\u001b[0m\u001b[0mr\u001b[0m\u001b[0;34m)\u001b[0m\u001b[0;34m)\u001b[0m\u001b[0;34m)\u001b[0m\u001b[0;34m)\u001b[0m\u001b[0;34m\u001b[0m\n",
      "\u001b[0;34m\u001b[0m\u001b[0;34m\u001b[0m\n",
      "\u001b[0;34m\u001b[0m    \u001b[0;32mreturn\u001b[0m \u001b[0mr\u001b[0m\u001b[0;34m,\u001b[0m \u001b[0mprob\u001b[0m\u001b[0;34m\u001b[0m\u001b[0;34m\u001b[0m\u001b[0m\n",
      "\u001b[0;31mFile:\u001b[0m      /usr/lib/python3/dist-packages/scipy/stats/_stats_py.py\n",
      "\u001b[0;31mType:\u001b[0m      function"
     ]
    }
   ],
   "source": [
    "# import the function\n",
    "from scipy.stats import pearsonr\n",
    "\n",
    "# inspect the source code\n",
    "??pearsonr"
   ]
  },
  {
   "cell_type": "markdown",
   "metadata": {},
   "source": [
    "### Exercise 4"
   ]
  },
  {
   "cell_type": "code",
   "execution_count": 55,
   "metadata": {},
   "outputs": [
    {
     "name": "stdout",
     "output_type": "stream",
     "text": [
      "My function took 29.56 ms\n",
      "   pearsonr took 40.77 ms\n"
     ]
    }
   ],
   "source": [
    "# a bare-bones correlation function\n",
    "def rho(x,y):\n",
    "    xm = x-np.mean(x)\n",
    "    ym = y-np.mean(y)\n",
    "    n = np.dot(xm,ym)\n",
    "    d = np.linalg.norm(xm) * np.linalg.norm(ym)\n",
    "    return n/d\n",
    "\n",
    "\n",
    "# import the time library\n",
    "import time\n",
    "\n",
    "# experiment parameters\n",
    "numIters  = 1000\n",
    "varLength =  500\n",
    "\n",
    "# clock my custom-written function\n",
    "tic = time.time()\n",
    "for i in range(numIters):\n",
    "    x = np.random.randn(varLength,2)\n",
    "    rho(x[:,0],x[:,1])\n",
    "t1 = time.time() - tic\n",
    "\n",
    "\n",
    "# now for numpy's corrcoef function\n",
    "tic = time.time()\n",
    "for i in range(numIters):\n",
    "    x = np.random.randn(varLength,2)\n",
    "    pearsonr(x[:,0],x[:,1])\n",
    "t2 = time.time() - tic\n",
    "\n",
    "\n",
    "# print the results!\n",
    "# Note: time() returns seconds, so I multiply by 1000 for ms\n",
    "print(f'My function took {t1*1000:.2f} ms')\n",
    "print(f'   pearsonr took {t2*1000:.2f} ms')"
   ]
  },
  {
   "cell_type": "code",
   "execution_count": 60,
   "metadata": {},
   "outputs": [
    {
     "name": "stdout",
     "output_type": "stream",
     "text": [
      "My function took 55.34 ms\n",
      "   pearsonr took 55.88 ms\n"
     ]
    }
   ],
   "source": [
    "# a bare-bones correlation function\n",
    "def rho(x,y):\n",
    "    xm = x-np.mean(x)\n",
    "    ym = y-np.mean(y)\n",
    "    n = np.dot(xm,ym)\n",
    "    d = np.linalg.norm(xm) * np.linalg.norm(ym)\n",
    "    return n/d\n",
    "\n",
    "\n",
    "# import the time library\n",
    "import time\n",
    "\n",
    "# experiment parameters\n",
    "numIters  = 1000\n",
    "varLength =  500\n",
    "\n",
    "# clock my custom-written function\n",
    "tic = time.time()\n",
    "for i in range(numIters):\n",
    "    x = np.random.randn(varLength,2)\n",
    "    rho(x[:,0],x[:,1])\n",
    "t1 = time.time() - tic\n",
    "\n",
    "\n",
    "# now for numpy's corrcoef function\n",
    "tic = time.time()\n",
    "for i in range(numIters):\n",
    "    x = np.random.randn(varLength,2)\n",
    "    pearsonr(x[:,0],x[:,1])\n",
    "t2 = time.time() - tic\n",
    "\n",
    "\n",
    "# print the results!\n",
    "# Note: time() returns seconds, so I multiply by 1000 for ms\n",
    "print(f'My function took {t1*1000:.2f} ms')\n",
    "print(f'   pearsonr took {t2*1000:.2f} ms')"
   ]
  },
  {
   "cell_type": "markdown",
   "metadata": {},
   "source": [
    "### Exercise 5"
   ]
  },
  {
   "cell_type": "markdown",
   "metadata": {},
   "source": []
  },
  {
   "cell_type": "code",
   "execution_count": null,
   "metadata": {},
   "outputs": [
    {
     "data": {
      "image/png": "[encoded data removed]",
      "text/plain": [
       "<Figure size 1200x400 with 2 Axes>"
      ]
     },
     "metadata": {},
     "output_type": "display_data"
    }
   ],
   "source": [
    "# create the kernel (in the book figure I used +1.5)\n",
    "kernel = np.array([-1,1])\n",
    "\n",
    "# and the \"signal\" (a plateau)\n",
    "signal = np.zeros(30)\n",
    "signal[10:20] = 1\n",
    "\n",
    "\n",
    "# plot them\n",
    "_,axs = plt.subplots(1,2,figsize=(12,4))\n",
    "axs[0].plot(kernel,'ks-')\n",
    "axs[0].set_title('Kernel')\n",
    "axs[0].set_xlim([-15,15])\n",
    "\n",
    "axs[1].plot(signal,'ks-')\n",
    "axs[1].set_title('Time series signal')\n",
    "\n",
    "# plt.savefig('Figure_04_04ab.png',dpi=300)\n",
    "plt.show()"
   ]
  },
  {
   "cell_type": "code",
   "execution_count": 11,
   "metadata": {},
   "outputs": [
    {
     "data": {
      "image/png": "[encoded data removed]",
      "text/plain": [
       "<Figure size 1200x400 with 2 Axes>"
      ]
     },
     "metadata": {},
     "output_type": "display_data"
    }
   ],
   "source": [
    "# initialize the feature map as zeros\n",
    "featureMap = np.zeros(len(signal))\n",
    "\n",
    "#loop over the signal and do themplate-matching (via dot products!)\n",
    "for t in range(1,len(signal)-1):\n",
    "    featureMap[t] = np.dot(kernel,signal[t-1:t+1])\n",
    "\n",
    "\n",
    "# plot the result\n",
    "_,axs = plt.subplots(1,2,figsize=(12,4))\n",
    "axs[0].plot(kernel,'ks-')\n",
    "axs[0].set_title('Kernel')\n",
    "axs[0].set_xlim([-15,15])\n",
    "\n",
    "\n",
    "axs[1].plot(signal,'ks-',label='Signal',linewidth=3)\n",
    "markers,stemlines,_ = axs[1].stem(range(len(featureMap)),featureMap,\n",
    "                                 basefmt=' ',linefmt='',markerfmt='o',\n",
    "                                 label='Edge detection')\n",
    "\n",
    "plt.setp(stemlines,'color',[.7,.7,.7])\n",
    "plt.setp(markers,'color',[.7,.7,.7])\n",
    "\n",
    "axs[1].legend()\n",
    "# plt.savefig('Figure_04_04c.png',dpi=300)\n",
    "plt.show()"
   ]
  },
  {
   "cell_type": "code",
   "execution_count": null,
   "metadata": {},
   "outputs": [],
   "source": []
  },
  {
   "cell_type": "code",
   "execution_count": null,
   "metadata": {},
   "outputs": [],
   "source": []
  },
  {
   "cell_type": "code",
   "execution_count": null,
   "metadata": {},
   "outputs": [],
   "source": []
  },
  {
   "cell_type": "code",
   "execution_count": null,
   "metadata": {},
   "outputs": [],
   "source": []
  }
 ],
 "metadata": {
  "kernelspec": {
   "display_name": "usr",
   "language": "python",
   "name": "python3"
  },
  "language_info": {
   "codemirror_mode": {
    "name": "ipython",
    "version": 3
   },
   "file_extension": ".py",
   "mimetype": "text/x-python",
   "name": "python",
   "nbconvert_exporter": "python",
   "pygments_lexer": "ipython3",
   "version": "3.10.12"
  }
 },
 "nbformat": 4,
 "nbformat_minor": 2
}
