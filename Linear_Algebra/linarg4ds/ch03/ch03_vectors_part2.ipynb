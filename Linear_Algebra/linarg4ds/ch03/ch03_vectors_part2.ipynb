{
 "cells": [
  {
   "cell_type": "code",
   "execution_count": 1,
   "metadata": {},
   "outputs": [],
   "source": [
    "import numpy as np\n",
    "import matplotlib.pyplot as plt"
   ]
  },
  {
   "cell_type": "markdown",
   "metadata": {},
   "source": [
    "### Linear weighted combinations"
   ]
  },
  {
   "cell_type": "code",
   "execution_count": 2,
   "metadata": {},
   "outputs": [
    {
     "data": {
      "text/plain": [
       "array([ -7,  -4, -13])"
      ]
     },
     "execution_count": 2,
     "metadata": {},
     "output_type": "execute_result"
    }
   ],
   "source": [
    "# the scalars\n",
    "l1 = 1\n",
    "l2 = 2\n",
    "l3 = -3\n",
    "\n",
    "# the vectors\n",
    "v1 = np.array([4,5,1])\n",
    "v2 = np.array([-4,0,-4])\n",
    "v3 = np.array([1,3,2])\n",
    "\n",
    "# linear weighted combination\n",
    "l1*v1 + l2*v2 + l3*v3"
   ]
  },
  {
   "cell_type": "code",
   "execution_count": 3,
   "metadata": {},
   "outputs": [
    {
     "data": {
      "text/plain": [
       "[4, 5, 1, -4, 0, -4, -4, 0, -4]"
      ]
     },
     "execution_count": 3,
     "metadata": {},
     "output_type": "execute_result"
    }
   ],
   "source": [
    "# using lists\n",
    "vl1 = [4,5,1]\n",
    "vl2 = [-4,0,-4]\n",
    "vl3 = [1,3,2]\n",
    "\n",
    "l1*vl1 + l2*vl2 + l3*vl3"
   ]
  },
  {
   "cell_type": "markdown",
   "metadata": {},
   "source": [
    "### Basis vectors and points"
   ]
  },
  {
   "cell_type": "code",
   "execution_count": 11,
   "metadata": {},
   "outputs": [
    {
     "data": {
      "image/png": "[encoded data removed]",
      "text/plain": [
       "<Figure size 600x600 with 1 Axes>"
      ]
     },
     "metadata": {},
     "output_type": "display_data"
    }
   ],
   "source": [
    "# points (in Cartesian coordinates)\n",
    "p = (3,1)\n",
    "q = (-6,2)\n",
    "\n",
    "plt.figure(figsize=(6,6))\n",
    "\n",
    "# draw points\n",
    "plt.plot(p[0],p[1],'ko',markerfacecolor='k',markersize=10,label='Point p')\n",
    "plt.plot(q[0],q[1],'ks',markerfacecolor='k',markersize=10,label='Point q')\n",
    "\n",
    "# draw basis vectors\n",
    "plt.plot([0,0],[0,1],'k',linewidth=3,label='Basis S')\n",
    "plt.plot([0,1],[0,0],'k',linewidth=3)\n",
    "\n",
    "plt.plot([0,3],[0,1],'k--',linewidth=3,label='Basis T')\n",
    "plt.plot([0,-3],[0,1],'k--',linewidth=3)\n",
    "\n",
    "plt.axis('square')\n",
    "plt.grid(linestyle='--',color=[.8,.8,.8])\n",
    "plt.xlim([-7,7])\n",
    "plt.ylim([-7,7])\n",
    "plt.legend()\n",
    "# plt.savefig('Figure_03_04.png',dpi=300)\n",
    "plt.show()"
   ]
  },
  {
   "cell_type": "markdown",
   "metadata": {},
   "source": [
    "### Exercise 1"
   ]
  },
  {
   "cell_type": "code",
   "execution_count": 13,
   "metadata": {},
   "outputs": [
    {
     "data": {
      "text/plain": [
       "array([ -7.,  -4., -13.])"
      ]
     },
     "execution_count": 13,
     "metadata": {},
     "output_type": "execute_result"
    }
   ],
   "source": [
    "# organized into lists\n",
    "scalars = [ l1,l2,l3 ]\n",
    "vectors = [ v1,v2,v3 ]\n",
    "\n",
    "# initialize the linear combination\n",
    "linCombo = np.zeros(len(v1))\n",
    "\n",
    "# implement linear weighted combination using zip()\n",
    "for s,v in zip(scalars,vectors):\n",
    "    linCombo += s*v\n",
    "\n",
    "# confirm it's the same answer as above\n",
    "linCombo"
   ]
  },
  {
   "cell_type": "markdown",
   "metadata": {},
   "source": [
    "### Exercise 2"
   ]
  },
  {
   "cell_type": "code",
   "execution_count": 22,
   "metadata": {},
   "outputs": [
    {
     "ename": "IndexError",
     "evalue": "list index out of range",
     "output_type": "error",
     "traceback": [
      "\u001b[0;31m---------------------------------------------------------------------------\u001b[0m",
      "\u001b[0;31mIndexError\u001b[0m                                Traceback (most recent call last)",
      "Cell \u001b[0;32mIn[22], line 10\u001b[0m\n\u001b[1;32m      7\u001b[0m linCombo \u001b[38;5;241m=\u001b[39m np\u001b[38;5;241m.\u001b[39mzeros(\u001b[38;5;28mlen\u001b[39m(v1))\n\u001b[1;32m      9\u001b[0m \u001b[38;5;28;01mfor\u001b[39;00m i \u001b[38;5;129;01min\u001b[39;00m \u001b[38;5;28mrange\u001b[39m(\u001b[38;5;28mlen\u001b[39m(scalars)):\n\u001b[0;32m---> 10\u001b[0m     linCombo \u001b[38;5;241m+\u001b[39m\u001b[38;5;241m=\u001b[39m scalars[i]\u001b[38;5;241m*\u001b[39m\u001b[43mvectors\u001b[49m\u001b[43m[\u001b[49m\u001b[43mi\u001b[49m\u001b[43m]\u001b[49m\n\u001b[1;32m     13\u001b[0m scalars \u001b[38;5;241m=\u001b[39m [ l1, l2, l3, \u001b[38;5;241m5\u001b[39m ]\n\u001b[1;32m     14\u001b[0m vectors \u001b[38;5;241m=\u001b[39m [ v1, v2, v3, [\u001b[38;5;241m1\u001b[39m,\u001b[38;5;241m1\u001b[39m,\u001b[38;5;241m1\u001b[39m,\u001b[38;5;241m1\u001b[39m] ]\n",
      "\u001b[0;31mIndexError\u001b[0m: list index out of range"
     ]
    }
   ],
   "source": [
    "# using indexing will cause an error, as in the code below.\n",
    "\n",
    "# make the scalars longer\n",
    "scalars = [ l1, l2, l3, 5 ]\n",
    "vectors = [ v1, v2, v3 ]\n",
    "\n",
    "linCombo = np.zeros(len(v1))\n",
    "\n",
    "for i in range(len(scalars)):\n",
    "    linCombo += scalars[i]*vectors[i]\n",
    "# -> IndexError: list index out of range\n",
    "\n",
    "scalars = [ l1, l2, l3, 5 ]\n",
    "vectors = [ v1, v2, v3, [1,1,1,1] ]\n",
    "\n",
    "linCombo = np.zeros(len(v1))\n",
    "\n",
    "for i in range(len(scalars)):\n",
    "    linCombo += scalars[i]*vectors[i]\n",
    "# -> ValueError: operands could not be broadcast together with shapes (3,) (20,) (3,) "
   ]
  },
  {
   "cell_type": "code",
   "execution_count": null,
   "metadata": {},
   "outputs": [],
   "source": []
  }
 ],
 "metadata": {
  "kernelspec": {
   "display_name": "Python 3",
   "language": "python",
   "name": "python3"
  },
  "language_info": {
   "codemirror_mode": {
    "name": "ipython",
    "version": 3
   },
   "file_extension": ".py",
   "mimetype": "text/x-python",
   "name": "python",
   "nbconvert_exporter": "python",
   "pygments_lexer": "ipython3",
   "version": "3.10.12"
  }
 },
 "nbformat": 4,
 "nbformat_minor": 2
}
